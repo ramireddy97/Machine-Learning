{
 "cells": [
  {
   "cell_type": "markdown",
   "metadata": {},
   "source": [
    "Q1.1 Write a Python Program(with class concepts) to find the area of the triangle using the below\n",
    "formula.\n",
    "\n",
    "area = (s*(s-a)*(s-b)*(s-c)) ** 0.5\n",
    "\n",
    "Function to take the length of the sides of triangle from user should be defined in the parent\n",
    "class and function to calculate the area should be defined in subclass."
   ]
  },
  {
   "cell_type": "code",
   "execution_count": null,
   "metadata": {},
   "outputs": [],
   "source": [
    "#the inbuilt private method __init__ gets called and prompts for user input when Area class is initialized.\n",
    "\n",
    "class Inputs:\n",
    "    def __init__(self):\n",
    "        self.a=int(input(\"Enter the value of a : \"))\n",
    "        self.b=int(input(\"Enter the value of b : \"))\n",
    "        self.c=int(input(\"Enter the value of c : \"))\n",
    "\n",
    "class Area(Inputs):\n",
    "    def find_area(self):\n",
    "        s=(self.a+self.b+self.c)/2\n",
    "        result=(s*(s-self.a)*(s-self.b)*(s-self.c))**0.5\n",
    "        print(\"The area of the triangle is {}\".format(result))\n",
    "A=Area()\n",
    "A.find_area()"
   ]
  },
  {
   "cell_type": "code",
   "execution_count": null,
   "metadata": {},
   "outputs": [],
   "source": []
  },
  {
   "cell_type": "markdown",
   "metadata": {},
   "source": [
    "Q1.2 Write a function filter_long_words() that takes a list of words and an integer n and returns\n",
    "the list of words that are longer than n."
   ]
  },
  {
   "cell_type": "code",
   "execution_count": 5,
   "metadata": {},
   "outputs": [
    {
     "data": {
      "text/plain": [
       "['Singareddy', 'Venkata']"
      ]
     },
     "execution_count": 5,
     "metadata": {},
     "output_type": "execute_result"
    }
   ],
   "source": [
    "def filter_long_words(lst,n):\n",
    "    result=[]\n",
    "    for item in lst:\n",
    "        if len(item)>n:\n",
    "            result.append(item)\n",
    "    return result\n",
    "\n",
    "filter_long_words([\"Rami\",\"Red\",\"Singareddy\",\"Venkata\",\"hello\"],5)"
   ]
  },
  {
   "cell_type": "code",
   "execution_count": null,
   "metadata": {},
   "outputs": [],
   "source": []
  },
  {
   "cell_type": "raw",
   "metadata": {},
   "source": [
    "Q2.1 Write a Python program using function concept that maps list of words into a list of integers\n",
    "representing the lengths of the corresponding words.\n",
    "\n",
    "Hint: If a list [ ab,cde,erty] is passed on to the python function output should come as [2,3,4]\n",
    "Here 2,3 and 4 are the lengths of the words in the list."
   ]
  },
  {
   "cell_type": "code",
   "execution_count": 4,
   "metadata": {},
   "outputs": [
    {
     "data": {
      "text/plain": [
       "[4, 3, 10, 7, 5]"
      ]
     },
     "execution_count": 4,
     "metadata": {},
     "output_type": "execute_result"
    }
   ],
   "source": [
    "def mapping_lengths(lst):\n",
    "    result=[]\n",
    "    for item in lst:\n",
    "        result.append(len(item))\n",
    "    return result\n",
    "\n",
    "mapping_lengths([\"Rami\",\"Red\",\"Singareddy\",\"Venkata\",\"hello\"])"
   ]
  },
  {
   "cell_type": "code",
   "execution_count": null,
   "metadata": {},
   "outputs": [],
   "source": []
  },
  {
   "cell_type": "markdown",
   "metadata": {},
   "source": [
    "Q2.2 Write a Python function which takes a character (i.e. a string of length 1) and returns True if\n",
    "it is a vowel, False otherwise."
   ]
  },
  {
   "cell_type": "code",
   "execution_count": 3,
   "metadata": {},
   "outputs": [
    {
     "name": "stdout",
     "output_type": "stream",
     "text": [
      "True\n",
      "False\n",
      "True\n",
      "please enter a character of unit length only\n",
      "False\n"
     ]
    }
   ],
   "source": [
    "#This program will not accept a string of more than unit length which when given in argument will return \"please enter a character of unit length only\"\n",
    "\n",
    "def check_vowel(ch):\n",
    "    if len(ch)==1 and type(ch)==str:\n",
    "        ch=ch.lower()\n",
    "        return ch=='a' or ch=='e' or ch=='i' or ch=='o' or ch=='u'\n",
    "    else:\n",
    "        return \"please enter a character of unit length only\"\n",
    "    \n",
    "print(check_vowel('A'))\n",
    "print(check_vowel('s'))\n",
    "print(check_vowel('i'))\n",
    "print(check_vowel('Hello'))\n",
    "print(check_vowel('T'))"
   ]
  }
 ],
 "metadata": {
  "kernelspec": {
   "display_name": "Python 3",
   "language": "python",
   "name": "python3"
  },
  "language_info": {
   "codemirror_mode": {
    "name": "ipython",
    "version": 3
   },
   "file_extension": ".py",
   "mimetype": "text/x-python",
   "name": "python",
   "nbconvert_exporter": "python",
   "pygments_lexer": "ipython3",
   "version": "3.7.6"
  }
 },
 "nbformat": 4,
 "nbformat_minor": 4
}
